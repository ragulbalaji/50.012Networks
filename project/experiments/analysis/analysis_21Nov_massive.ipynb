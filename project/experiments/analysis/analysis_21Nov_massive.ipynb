{
 "cells": [
  {
   "cell_type": "code",
   "execution_count": 12,
   "metadata": {},
   "outputs": [],
   "source": [
    "import matplotlib.pyplot as plt\n",
    "import pandas as pd\n",
    "import numpy as np\n",
    "import os"
   ]
  },
  {
   "cell_type": "code",
   "execution_count": 25,
   "metadata": {},
   "outputs": [],
   "source": [
    "CBWs   = [   2,   4,   6]\n",
    "PBWs   = [  10,  16,  20]\n",
    "CWNDs  = [  64, 128, 256]\n",
    "TTIME  = 10\n",
    "NUMEXP = 20\n",
    "\n",
    "for CBW in CBWs:\n",
    "    for PBW in PBWs:\n",
    "        for CWND in CWNDs:\n",
    "            os.system(f'mkdir -p ./NUMEXP-{NUMEXP}_TTIME-{TTIME}/CBW-{CBW}/PBW-{PBW}/CWND-{CWND}K/')\n",
    "            os.system(f'unzip ../results/CBW-{CBW}_PBW-{PBW}_CWND-{CWND}K_NUMEXP-{NUMEXP}_TTIME-{TTIME}.zip')\n",
    "            os.system(f'mv ./CBW-{CBW}_PBW-{PBW}_CWND-{CWND}K_NUMEXP-{NUMEXP}_TTIME-{TTIME}/* ./NUMEXP-{NUMEXP}_TTIME-{TTIME}/CBW-{CBW}/PBW-{PBW}/CWND-{CWND}K/')\n",
    "            os.system(f'rmdir ./CBW-{CBW}_PBW-{PBW}_CWND-{CWND}K_NUMEXP-{NUMEXP}_TTIME-{TTIME}')"
   ]
  },
  {
   "cell_type": "code",
   "execution_count": 6,
   "metadata": {},
   "outputs": [
    {
     "name": "stdout",
     "output_type": "stream",
     "text": [
      "../results/CBW-2_PBW-10_CWND-128K_NUMEXP-20_TTIME-10.zip\n",
      "../results/CBW-2_PBW-10_CWND-256K_NUMEXP-20_TTIME-10.zip\n",
      "../results/CBW-2_PBW-10_CWND-64K_NUMEXP-20_TTIME-10.zip\n",
      "../results/CBW-2_PBW-16_CWND-128K_NUMEXP-20_TTIME-10.zip\n",
      "../results/CBW-2_PBW-16_CWND-256K_NUMEXP-20_TTIME-10.zip\n",
      "../results/CBW-2_PBW-16_CWND-64K_NUMEXP-20_TTIME-10.zip\n",
      "../results/CBW-2_PBW-20_CWND-128K_NUMEXP-20_TTIME-10.zip\n",
      "../results/CBW-2_PBW-20_CWND-256K_NUMEXP-20_TTIME-10.zip\n",
      "../results/CBW-2_PBW-20_CWND-64K_NUMEXP-20_TTIME-10.zip\n",
      "../results/CBW-4_PBW-10_CWND-128K_NUMEXP-20_TTIME-10.zip\n",
      "../results/CBW-4_PBW-10_CWND-256K_NUMEXP-20_TTIME-10.zip\n",
      "../results/CBW-4_PBW-10_CWND-64K_NUMEXP-20_TTIME-10.zip\n",
      "../results/CBW-4_PBW-16_CWND-128K_NUMEXP-20_TTIME-10.zip\n",
      "../results/CBW-4_PBW-16_CWND-256K_NUMEXP-20_TTIME-10.zip\n",
      "../results/CBW-4_PBW-16_CWND-64K_NUMEXP-20_TTIME-10.zip\n",
      "../results/CBW-4_PBW-20_CWND-128K_NUMEXP-20_TTIME-10.zip\n",
      "../results/CBW-4_PBW-20_CWND-256K_NUMEXP-20_TTIME-10.zip\n",
      "../results/CBW-4_PBW-20_CWND-64K_NUMEXP-20_TTIME-10.zip\n",
      "../results/CBW-6_PBW-10_CWND-128K_NUMEXP-20_TTIME-10.zip\n",
      "../results/CBW-6_PBW-10_CWND-256K_NUMEXP-20_TTIME-10.zip\n",
      "../results/CBW-6_PBW-10_CWND-64K_NUMEXP-20_TTIME-10.zip\n",
      "../results/CBW-6_PBW-16_CWND-128K_NUMEXP-20_TTIME-10.zip\n",
      "../results/CBW-6_PBW-16_CWND-256K_NUMEXP-20_TTIME-10.zip\n",
      "../results/CBW-6_PBW-16_CWND-64K_NUMEXP-20_TTIME-10.zip\n",
      "../results/CBW-6_PBW-20_CWND-128K_NUMEXP-20_TTIME-10.zip\n",
      "../results/CBW-6_PBW-20_CWND-256K_NUMEXP-20_TTIME-10.zip\n",
      "../results/CBW-6_PBW-20_CWND-64K_NUMEXP-20_TTIME-10.zip\n"
     ]
    }
   ],
   "source": [
    "!ls ../results/CBW*"
   ]
  },
  {
   "cell_type": "code",
   "execution_count": null,
   "metadata": {},
   "outputs": [],
   "source": []
  }
 ],
 "metadata": {
  "kernelspec": {
   "display_name": "Python 3",
   "language": "python",
   "name": "python3"
  },
  "language_info": {
   "codemirror_mode": {
    "name": "ipython",
    "version": 3
   },
   "file_extension": ".py",
   "mimetype": "text/x-python",
   "name": "python",
   "nbconvert_exporter": "python",
   "pygments_lexer": "ipython3",
   "version": "3.7.4"
  }
 },
 "nbformat": 4,
 "nbformat_minor": 4
}
